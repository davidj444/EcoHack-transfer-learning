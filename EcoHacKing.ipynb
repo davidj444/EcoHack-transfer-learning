{
 "cells": [
  {
   "cell_type": "code",
   "execution_count": 95,
   "id": "58cfa4b0",
   "metadata": {},
   "outputs": [],
   "source": [
    "import os\n",
    "import torch\n",
    "import pandas as pd \n",
    "from torchaudio import info,load\n",
    "from librosa import get_samplerate,get_duration\n",
    "import numpy as np\n",
    "from torchaudio.transforms import Resample,MelSpectrogram"
   ]
  },
  {
   "cell_type": "code",
   "execution_count": 8,
   "id": "6e7a0db9",
   "metadata": {},
   "outputs": [],
   "source": [
    "\n",
    "## list with all the files \n",
    "pathtowav = '/media/nfarrugi/Expansion/EcoHack/Chunks/'\n",
    "chunklist = os.listdir(pathtowav)"
   ]
  },
  {
   "cell_type": "code",
   "execution_count": 9,
   "id": "e2638e33",
   "metadata": {},
   "outputs": [],
   "source": [
    "goodfiles = []\n",
    "\n",
    "for curfile in chunklist:\n",
    "    splitted = curfile.split('_')\n",
    "    \n",
    "    if (os.path.splitext(curfile)[1] == '.wav') and (splitted[-2]!='3s'):\n",
    "        goodfiles.append(curfile)"
   ]
  },
  {
   "cell_type": "code",
   "execution_count": 10,
   "id": "00c7dc22",
   "metadata": {},
   "outputs": [],
   "source": [
    "labelsfile = '20221101_120529UTC_summary.txt'"
   ]
  },
  {
   "cell_type": "code",
   "execution_count": 11,
   "id": "10f94842",
   "metadata": {},
   "outputs": [],
   "source": [
    "wav,sr = load(os.path.join(pathtowav,goodfiles[0]))"
   ]
  },
  {
   "cell_type": "code",
   "execution_count": 12,
   "id": "a3fbaa8b",
   "metadata": {},
   "outputs": [
    {
     "name": "stdout",
     "output_type": "stream",
     "text": [
      "Duration of file 20210418_184500.loc01_00;33-00;36_(type_1).wav is 3.0 seconds\n"
     ]
    }
   ],
   "source": [
    "print(f\"Duration of file {goodfiles[0]} is {wav.shape[1] / sr} seconds\")"
   ]
  },
  {
   "cell_type": "code",
   "execution_count": 13,
   "id": "8ce62c1a",
   "metadata": {},
   "outputs": [
    {
     "data": {
      "text/plain": [
       "5190"
      ]
     },
     "execution_count": 13,
     "metadata": {},
     "output_type": "execute_result"
    }
   ],
   "source": [
    "len(goodfiles)"
   ]
  },
  {
   "cell_type": "code",
   "execution_count": 14,
   "id": "70dc6863",
   "metadata": {},
   "outputs": [],
   "source": [
    "Df = pd.read_csv(os.path.join(pathtowav,labelsfile),names=['origpath','call1','call2','call3','call4'])"
   ]
  },
  {
   "cell_type": "code",
   "execution_count": 15,
   "id": "347305cf",
   "metadata": {},
   "outputs": [],
   "source": [
    "Df['wav'] = [curpath[49:] for curpath in Df['origpath']]"
   ]
  },
  {
   "cell_type": "code",
   "execution_count": 17,
   "id": "fe5aadd2",
   "metadata": {},
   "outputs": [
    {
     "data": {
      "text/plain": [
       "Series([], Name: call1, dtype: int64)"
      ]
     },
     "execution_count": 17,
     "metadata": {},
     "output_type": "execute_result"
    }
   ],
   "source": [
    "Df[Df['wav'] == curfile]['call1']"
   ]
  },
  {
   "cell_type": "code",
   "execution_count": 18,
   "id": "d49f9223",
   "metadata": {},
   "outputs": [
    {
     "data": {
      "text/plain": [
       "Series([], Name: call1, dtype: int64)"
      ]
     },
     "execution_count": 18,
     "metadata": {},
     "output_type": "execute_result"
    }
   ],
   "source": [
    "(Df[Df['wav'] == curfile]['call1'])"
   ]
  },
  {
   "cell_type": "code",
   "execution_count": 19,
   "id": "d07f68fb",
   "metadata": {},
   "outputs": [],
   "source": [
    "recorders = [curstring.split('loc') for curstring in Df['wav']]"
   ]
  },
  {
   "cell_type": "markdown",
   "id": "e561a873",
   "metadata": {},
   "source": [
    "loc01 -> recorder 1\n",
    "\n",
    "loc1 ->recorder 1 \n",
    "\n",
    "loc4B -> recorder 2 \n",
    "\n",
    "loc8B -> recorder 3 \n",
    "\n",
    "loc10 -> recorder 4 \n",
    "\n",
    "AM02 -> recorder 5"
   ]
  },
  {
   "cell_type": "code",
   "execution_count": 123,
   "id": "f9f634e0",
   "metadata": {},
   "outputs": [],
   "source": [
    "rec_dict ={'01':1,'1_':1,'4B':2,'8B':3,'10':4,'30':5,'CG010':6,'CG004':7,'CG001':8,'XC':9,'ID':10,'AM':11}"
   ]
  },
  {
   "cell_type": "code",
   "execution_count": 126,
   "id": "64b3fa63",
   "metadata": {},
   "outputs": [
    {
     "data": {
      "text/plain": [
       "'XC'"
      ]
     },
     "execution_count": 126,
     "metadata": {},
     "output_type": "execute_result"
    }
   ],
   "source": [
    "currec[0][:2]"
   ]
  },
  {
   "cell_type": "code",
   "execution_count": 132,
   "id": "52ff0056",
   "metadata": {},
   "outputs": [],
   "source": [
    "rec_id = []\n",
    "for currec in recorders:\n",
    "    if len(currec)==1:\n",
    "        \n",
    "        if currec[0][:2]=='AM':\n",
    "            rec_id.append(rec_dict['AM'])\n",
    "        elif currec[0][:2]=='ID':\n",
    "            rec_id.append(rec_dict['ID'])\n",
    "        elif currec[0][:2]=='XC':\n",
    "            rec_id.append(rec_dict['XC'])\n",
    "        elif currec[0][:5]=='CG010':\n",
    "            rec_id.append(rec_dict['CG010'])\n",
    "        elif currec[0][:5]=='CG004':\n",
    "            rec_id.append(rec_dict['CG004'])\n",
    "        elif currec[0][:5]=='CG001':\n",
    "            rec_id.append(rec_dict['CG001'])\n",
    "        else:\n",
    "            print(currec[0][:4])\n",
    "    else:\n",
    "        rec_id.append(rec_dict[currec[1][:2]])\n",
    "    "
   ]
  },
  {
   "cell_type": "code",
   "execution_count": 133,
   "id": "ec15d37a",
   "metadata": {},
   "outputs": [],
   "source": [
    "Df['recorder_id']=rec_id"
   ]
  },
  {
   "cell_type": "code",
   "execution_count": 134,
   "id": "19ed333d",
   "metadata": {},
   "outputs": [
    {
     "data": {
      "text/plain": [
       "(array([ 1,  2,  3,  4,  5,  6,  7,  8,  9, 10, 11]),\n",
       " array([ 920,  247,  133,  112,   13, 1268,  290, 1014,  665,  136,  340]))"
      ]
     },
     "execution_count": 134,
     "metadata": {},
     "output_type": "execute_result"
    }
   ],
   "source": [
    "np.unique(rec_id,return_counts=True)"
   ]
  },
  {
   "cell_type": "markdown",
   "id": "6e8319d9",
   "metadata": {},
   "source": [
    "Long cell\n",
    "--"
   ]
  },
  {
   "cell_type": "code",
   "execution_count": 147,
   "id": "29b3f8a4",
   "metadata": {},
   "outputs": [],
   "source": [
    "allsamplerates = []\n",
    "waves_32k = []\n",
    "labels = []\n",
    "recorders_id = []\n",
    "for curfile in goodfiles:\n",
    "    meta = info((os.path.join(pathtowav,curfile)))\n",
    "    sr = meta.sample_rate\n",
    "    resamp = Resample(orig_freq=sr,new_freq=8000)\n",
    "    \n",
    "    curwave = resamp(load(os.path.join(pathtowav,curfile))[0])\n",
    "    \n",
    "    if curwave.shape[1]==3*8000 and len(Df[Df['wav'] == curfile])!=0 :\n",
    "        waves_32k.append(curwave)\n",
    "        recorders_id.append(Df[Df['wav'] == curfile]['recorder_id'].iloc[0])\n",
    "        if (Df[Df['wav'] == curfile]['call1'].iloc[0])==1:\n",
    "            labels.append(1)\n",
    "        elif (Df[Df['wav'] == curfile]['call2'].iloc[0])==1:\n",
    "            labels.append(2)\n",
    "        elif (Df[Df['wav'] == curfile]['call3'].iloc[0])==1:\n",
    "            labels.append(3)\n",
    "        elif (Df[Df['wav'] == curfile]['call4'].iloc[0])==1:\n",
    "            labels.append(4)\n",
    "            \n",
    "waves_32k = torch.vstack(waves_32k)"
   ]
  },
  {
   "cell_type": "code",
   "execution_count": 148,
   "id": "7bd77762",
   "metadata": {},
   "outputs": [],
   "source": [
    "torch.save(waves_32k,'/media/nfarrugi/Expansion/EcoHack/allwaves.pth')\n",
    "torch.save(labels,'/media/nfarrugi/Expansion/EcoHack/labels.pth')\n",
    "torch.save(recorders_id,'/media/nfarrugi/Expansion/EcoHack/recorders.pth')"
   ]
  },
  {
   "cell_type": "code",
   "execution_count": 149,
   "id": "b76cf887",
   "metadata": {},
   "outputs": [],
   "source": [
    "waves_32k = torch.load('/media/nfarrugi/Expansion/EcoHack/allwaves.pth')\n",
    "labels = torch.load('/media/nfarrugi/Expansion/EcoHack/labels.pth')\n",
    "recorders_id = torch.load('/media/nfarrugi/Expansion/EcoHack/recorders.pth')"
   ]
  },
  {
   "cell_type": "code",
   "execution_count": 151,
   "id": "a5f23c55",
   "metadata": {},
   "outputs": [
    {
     "name": "stdout",
     "output_type": "stream",
     "text": [
      "torch.Size([5135, 24000]) 5135 5135\n"
     ]
    }
   ],
   "source": [
    "print(waves_32k.shape,len(labels),len(recorders_id))"
   ]
  },
  {
   "cell_type": "markdown",
   "id": "31511063",
   "metadata": {},
   "source": [
    "Spectrogram estimation"
   ]
  },
  {
   "cell_type": "code",
   "execution_count": 65,
   "id": "a142f39a",
   "metadata": {},
   "outputs": [],
   "source": [
    "mel = MelSpectrogram(sample_rate=8000,n_fft=200,hop_length=200,n_mels=64)"
   ]
  },
  {
   "cell_type": "code",
   "execution_count": 66,
   "id": "6afb46e5",
   "metadata": {},
   "outputs": [],
   "source": [
    "mels= mel(waves_32k)"
   ]
  },
  {
   "cell_type": "code",
   "execution_count": 67,
   "id": "54234732",
   "metadata": {},
   "outputs": [
    {
     "data": {
      "text/plain": [
       "torch.Size([5135, 64, 121])"
      ]
     },
     "execution_count": 67,
     "metadata": {},
     "output_type": "execute_result"
    }
   ],
   "source": [
    "mels.shape"
   ]
  },
  {
   "cell_type": "code",
   "execution_count": 68,
   "id": "99648876",
   "metadata": {},
   "outputs": [
    {
     "data": {
      "text/plain": [
       "7744"
      ]
     },
     "execution_count": 68,
     "metadata": {},
     "output_type": "execute_result"
    }
   ],
   "source": [
    "64*121"
   ]
  },
  {
   "cell_type": "code",
   "execution_count": 94,
   "id": "0954e08b",
   "metadata": {},
   "outputs": [
    {
     "ename": "NameError",
     "evalue": "name 'np' is not defined",
     "output_type": "error",
     "traceback": [
      "\u001b[0;31m---------------------------------------------------------------------------\u001b[0m",
      "\u001b[0;31mNameError\u001b[0m                                 Traceback (most recent call last)",
      "\u001b[0;32m/tmp/ipykernel_15267/1842791102.py\u001b[0m in \u001b[0;36m<module>\u001b[0;34m\u001b[0m\n\u001b[0;32m----> 1\u001b[0;31m \u001b[0mnp\u001b[0m\u001b[0;34m.\u001b[0m\u001b[0munique\u001b[0m\u001b[0;34m(\u001b[0m\u001b[0mlabels\u001b[0m\u001b[0;34m,\u001b[0m\u001b[0mreturn_counts\u001b[0m\u001b[0;34m=\u001b[0m\u001b[0;32mTrue\u001b[0m\u001b[0;34m)\u001b[0m\u001b[0;34m\u001b[0m\u001b[0;34m\u001b[0m\u001b[0m\n\u001b[0m",
      "\u001b[0;31mNameError\u001b[0m: name 'np' is not defined"
     ]
    }
   ],
   "source": [
    "np.unique(labels,return_counts=True)"
   ]
  },
  {
   "cell_type": "code",
   "execution_count": 41,
   "id": "35474c16",
   "metadata": {},
   "outputs": [],
   "source": [
    "from sklearn.model_selection import train_test_split"
   ]
  },
  {
   "cell_type": "code",
   "execution_count": 260,
   "id": "847f8f28",
   "metadata": {},
   "outputs": [
    {
     "data": {
      "text/plain": [
       "(array([1, 2, 3, 4, 5, 6]), array([920, 247, 133, 111,  13, 340]))"
      ]
     },
     "execution_count": 260,
     "metadata": {},
     "output_type": "execute_result"
    }
   ],
   "source": [
    "np.unique(recorders_id,return_counts=True)"
   ]
  },
  {
   "cell_type": "markdown",
   "id": "1f786239",
   "metadata": {},
   "source": [
    "Naive test with 80/20 train test split, regardless of recording sites "
   ]
  },
  {
   "cell_type": "code",
   "execution_count": 114,
   "id": "a46a4e70",
   "metadata": {},
   "outputs": [],
   "source": [
    "x_train,x_test,y_train,y_test = train_test_split(mels.reshape(5135,-1).detach().numpy(),labels,train_size=0.8)"
   ]
  },
  {
   "cell_type": "code",
   "execution_count": 82,
   "id": "a0f5c34a",
   "metadata": {},
   "outputs": [],
   "source": [
    "from sklearn.ensemble import RandomForestClassifier\n",
    "from sklearn.multiclass import OneVsRestClassifier"
   ]
  },
  {
   "cell_type": "code",
   "execution_count": 83,
   "id": "919b2fe8",
   "metadata": {},
   "outputs": [],
   "source": [
    "clf = OneVsRestClassifier(RandomForestClassifier())"
   ]
  },
  {
   "cell_type": "code",
   "execution_count": 84,
   "id": "1f5d573d",
   "metadata": {},
   "outputs": [
    {
     "data": {
      "text/plain": [
       "OneVsRestClassifier(estimator=RandomForestClassifier())"
      ]
     },
     "execution_count": 84,
     "metadata": {},
     "output_type": "execute_result"
    }
   ],
   "source": [
    "clf.fit(x_train,y_train)"
   ]
  },
  {
   "cell_type": "code",
   "execution_count": 85,
   "id": "1993d614",
   "metadata": {},
   "outputs": [],
   "source": [
    "y_pred_train = clf.predict(x_train)"
   ]
  },
  {
   "cell_type": "code",
   "execution_count": 86,
   "id": "c2d972c5",
   "metadata": {},
   "outputs": [],
   "source": [
    "y_pred = clf.predict(x_test)"
   ]
  },
  {
   "cell_type": "code",
   "execution_count": 87,
   "id": "a033efda",
   "metadata": {},
   "outputs": [],
   "source": [
    "from sklearn.metrics import classification_report"
   ]
  },
  {
   "cell_type": "code",
   "execution_count": 88,
   "id": "c6f67d86",
   "metadata": {},
   "outputs": [
    {
     "name": "stdout",
     "output_type": "stream",
     "text": [
      "              precision    recall  f1-score   support\n",
      "\n",
      "           1       1.00      1.00      1.00      1020\n",
      "           2       1.00      1.00      1.00      1773\n",
      "           3       1.00      1.00      1.00       717\n",
      "           4       1.00      0.99      1.00       598\n",
      "\n",
      "    accuracy                           1.00      4108\n",
      "   macro avg       1.00      1.00      1.00      4108\n",
      "weighted avg       1.00      1.00      1.00      4108\n",
      "\n"
     ]
    }
   ],
   "source": [
    "print(classification_report(y_train,y_pred_train))"
   ]
  },
  {
   "cell_type": "code",
   "execution_count": 89,
   "id": "dbd2a916",
   "metadata": {},
   "outputs": [
    {
     "name": "stdout",
     "output_type": "stream",
     "text": [
      "              precision    recall  f1-score   support\n",
      "\n",
      "           1       0.64      0.76      0.69       255\n",
      "           2       0.70      0.83      0.76       449\n",
      "           3       0.77      0.80      0.78       172\n",
      "           4       1.00      0.05      0.10       151\n",
      "\n",
      "    accuracy                           0.69      1027\n",
      "   macro avg       0.78      0.61      0.58      1027\n",
      "weighted avg       0.74      0.69      0.65      1027\n",
      "\n"
     ]
    }
   ],
   "source": [
    "print(classification_report(y_test,y_pred))"
   ]
  },
  {
   "cell_type": "code",
   "execution_count": 93,
   "id": "d683a4d5",
   "metadata": {},
   "outputs": [
    {
     "data": {
      "text/plain": [
       "<sklearn.metrics._plot.confusion_matrix.ConfusionMatrixDisplay at 0x7f5614aee6d0>"
      ]
     },
     "execution_count": 93,
     "metadata": {},
     "output_type": "execute_result"
    },
    {
     "data": {
      "image/png": "[encoded data removed]",
      "text/plain": [
       "<Figure size 432x288 with 2 Axes>"
      ]
     },
     "metadata": {
      "needs_background": "light"
     },
     "output_type": "display_data"
    }
   ],
   "source": [
    "from sklearn.metrics import ConfusionMatrixDisplay\n",
    "\n",
    "ConfusionMatrixDisplay.from_predictions(y_test,y_pred)"
   ]
  },
  {
   "cell_type": "markdown",
   "id": "f3ffc9c2",
   "metadata": {},
   "source": [
    "Leave one site out\n",
    "--"
   ]
  },
  {
   "cell_type": "code",
   "execution_count": 143,
   "id": "9cb99a25",
   "metadata": {},
   "outputs": [],
   "source": [
    "from sklearn.model_selection import LeaveOneGroupOut,cross_val_score\n",
    "from sklearn.linear_model import LogisticRegression"
   ]
  },
  {
   "cell_type": "code",
   "execution_count": 139,
   "id": "7d61c6d1",
   "metadata": {},
   "outputs": [],
   "source": [
    "logo = LeaveOneGroupOut()"
   ]
  },
  {
   "cell_type": "code",
   "execution_count": 153,
   "id": "74dbbf34",
   "metadata": {},
   "outputs": [],
   "source": [
    "clf = OneVsRestClassifier(RandomForestClassifier())\n",
    "\n",
    "score = cross_val_score(clf,X=mels.reshape(5135,-1).detach().numpy(),y=labels,groups=recorders_id,cv=logo)"
   ]
  },
  {
   "cell_type": "code",
   "execution_count": 155,
   "id": "57e84fda",
   "metadata": {},
   "outputs": [
    {
     "data": {
      "text/plain": [
       "(array([0.62934783, 0.58299595, 0.61654135, 0.62162162, 0.61538462,\n",
       "        0.54581359, 0.39310345, 0.77712032, 0.18345865, 0.38970588,\n",
       "        0.69117647]),\n",
       " {'01': 1,\n",
       "  '1_': 1,\n",
       "  '4B': 2,\n",
       "  '8B': 3,\n",
       "  '10': 4,\n",
       "  '30': 5,\n",
       "  'CG010': 6,\n",
       "  'CG004': 7,\n",
       "  'CG001': 8,\n",
       "  'XC': 9,\n",
       "  'ID': 10,\n",
       "  'AM': 11})"
      ]
     },
     "execution_count": 155,
     "metadata": {},
     "output_type": "execute_result"
    }
   ],
   "source": [
    "score,rec_dict"
   ]
  },
  {
   "cell_type": "code",
   "execution_count": 159,
   "id": "38a50fb6",
   "metadata": {},
   "outputs": [
    {
     "data": {
      "text/plain": [
       "(array([ 1,  2,  3,  4,  5,  6,  7,  8,  9, 10, 11]),\n",
       " array([ 920,  247,  133,  111,   13, 1266,  290, 1014,  665,  136,  340]))"
      ]
     },
     "execution_count": 159,
     "metadata": {},
     "output_type": "execute_result"
    }
   ],
   "source": [
    "np.unique(recorders_id,return_counts=True)"
   ]
  },
  {
   "cell_type": "code",
   "execution_count": null,
   "id": "8acd83b1",
   "metadata": {},
   "outputs": [],
   "source": []
  },
  {
   "cell_type": "code",
   "execution_count": null,
   "id": "e19ee445",
   "metadata": {},
   "outputs": [],
   "source": []
  },
  {
   "cell_type": "code",
   "execution_count": null,
   "id": "6595dd30",
   "metadata": {},
   "outputs": [],
   "source": []
  },
  {
   "cell_type": "code",
   "execution_count": null,
   "id": "ca237aa3",
   "metadata": {},
   "outputs": [],
   "source": []
  },
  {
   "cell_type": "markdown",
   "id": "7d6dba62",
   "metadata": {},
   "source": [
    "Tests with TPOT"
   ]
  },
  {
   "cell_type": "code",
   "execution_count": 115,
   "id": "2a5bb96f",
   "metadata": {},
   "outputs": [],
   "source": [
    "from tpot import TPOTClassifier"
   ]
  },
  {
   "cell_type": "code",
   "execution_count": 116,
   "id": "3ae271a1",
   "metadata": {},
   "outputs": [
    {
     "data": {
      "application/vnd.jupyter.widget-view+json": {
       "model_id": "",
       "version_major": 2,
       "version_minor": 0
      },
      "text/plain": [
       "Optimization Progress:   0%|          | 0/20 [00:00<?, ?pipeline/s]"
      ]
     },
     "metadata": {},
     "output_type": "display_data"
    },
    {
     "name": "stdout",
     "output_type": "stream",
     "text": [
      "\n",
      "Generation 1 - Current best internal CV score: 0.5708375934635526\n",
      "\n",
      "Generation 2 - Current best internal CV score: 0.5708375934635526\n",
      "\n",
      "Generation 3 - Current best internal CV score: 0.5971191147227136\n",
      "\n",
      "Best pipeline: GaussianNB(Normalizer(input_matrix, norm=l2))\n"
     ]
    },
    {
     "ename": "AttributeError",
     "evalue": "'list' object has no attribute 'astype'",
     "output_type": "error",
     "traceback": [
      "\u001b[0;31m---------------------------------------------------------------------------\u001b[0m",
      "\u001b[0;31mAttributeError\u001b[0m                            Traceback (most recent call last)",
      "\u001b[0;32m/tmp/ipykernel_15267/3396192965.py\u001b[0m in \u001b[0;36m<module>\u001b[0;34m\u001b[0m\n\u001b[1;32m      3\u001b[0m \u001b[0;34m\u001b[0m\u001b[0m\n\u001b[1;32m      4\u001b[0m \u001b[0mpipeline_optimizer\u001b[0m\u001b[0;34m.\u001b[0m\u001b[0mfit\u001b[0m\u001b[0;34m(\u001b[0m\u001b[0mx_train\u001b[0m\u001b[0;34m,\u001b[0m \u001b[0my_train\u001b[0m\u001b[0;34m)\u001b[0m\u001b[0;34m\u001b[0m\u001b[0;34m\u001b[0m\u001b[0m\n\u001b[0;32m----> 5\u001b[0;31m \u001b[0mprint\u001b[0m\u001b[0;34m(\u001b[0m\u001b[0mpipeline_optimizer\u001b[0m\u001b[0;34m.\u001b[0m\u001b[0mscore\u001b[0m\u001b[0;34m(\u001b[0m\u001b[0mx_test\u001b[0m\u001b[0;34m,\u001b[0m \u001b[0my_test\u001b[0m\u001b[0;34m)\u001b[0m\u001b[0;34m)\u001b[0m\u001b[0;34m\u001b[0m\u001b[0;34m\u001b[0m\u001b[0m\n\u001b[0m",
      "\u001b[0;32m~/miniconda3/lib/python3.7/site-packages/tpot/base.py\u001b[0m in \u001b[0;36mscore\u001b[0;34m(self, testing_features, testing_target)\u001b[0m\n\u001b[1;32m   1105\u001b[0m             \u001b[0mself\u001b[0m\u001b[0;34m.\u001b[0m\u001b[0mfitted_pipeline_\u001b[0m\u001b[0;34m,\u001b[0m\u001b[0;34m\u001b[0m\u001b[0;34m\u001b[0m\u001b[0m\n\u001b[1;32m   1106\u001b[0m             \u001b[0mtesting_features\u001b[0m\u001b[0;34m.\u001b[0m\u001b[0mastype\u001b[0m\u001b[0;34m(\u001b[0m\u001b[0mnp\u001b[0m\u001b[0;34m.\u001b[0m\u001b[0mfloat64\u001b[0m\u001b[0;34m)\u001b[0m\u001b[0;34m,\u001b[0m\u001b[0;34m\u001b[0m\u001b[0;34m\u001b[0m\u001b[0m\n\u001b[0;32m-> 1107\u001b[0;31m             \u001b[0mtesting_target\u001b[0m\u001b[0;34m.\u001b[0m\u001b[0mastype\u001b[0m\u001b[0;34m(\u001b[0m\u001b[0mnp\u001b[0m\u001b[0;34m.\u001b[0m\u001b[0mfloat64\u001b[0m\u001b[0;34m)\u001b[0m\u001b[0;34m,\u001b[0m\u001b[0;34m\u001b[0m\u001b[0;34m\u001b[0m\u001b[0m\n\u001b[0m\u001b[1;32m   1108\u001b[0m         )\n\u001b[1;32m   1109\u001b[0m         \u001b[0;32mreturn\u001b[0m \u001b[0mscore\u001b[0m\u001b[0;34m\u001b[0m\u001b[0;34m\u001b[0m\u001b[0m\n",
      "\u001b[0;31mAttributeError\u001b[0m: 'list' object has no attribute 'astype'"
     ]
    }
   ],
   "source": [
    "pipeline_optimizer = TPOTClassifier(generations=3, population_size=5, cv=5,\n",
    "                                    random_state=42, verbosity=2)\n",
    "\n",
    "pipeline_optimizer.fit(x_train, y_train)"
   ]
  },
  {
   "cell_type": "code",
   "execution_count": 118,
   "id": "944743d4",
   "metadata": {},
   "outputs": [
    {
     "name": "stdout",
     "output_type": "stream",
     "text": [
      "0.6037000973709834\n"
     ]
    }
   ],
   "source": [
    "\n",
    "print(pipeline_optimizer.score(x_test, np.array(y_test)))"
   ]
  },
  {
   "cell_type": "code",
   "execution_count": 120,
   "id": "41f766fb",
   "metadata": {},
   "outputs": [
    {
     "data": {
      "text/plain": [
       "<sklearn.metrics._plot.confusion_matrix.ConfusionMatrixDisplay at 0x7f55ec388e90>"
      ]
     },
     "execution_count": 120,
     "metadata": {},
     "output_type": "execute_result"
    },
    {
     "data": {
      "image/png": "[encoded data removed]",
      "text/plain": [
       "<Figure size 432x288 with 2 Axes>"
      ]
     },
     "metadata": {
      "needs_background": "light"
     },
     "output_type": "display_data"
    }
   ],
   "source": [
    "y_pred = pipeline_optimizer.predict(x_test)\n",
    "ConfusionMatrixDisplay.from_predictions(y_test,y_pred)"
   ]
  },
  {
   "cell_type": "code",
   "execution_count": 121,
   "id": "e5a02fcd",
   "metadata": {},
   "outputs": [
    {
     "name": "stdout",
     "output_type": "stream",
     "text": [
      "              precision    recall  f1-score   support\n",
      "\n",
      "           1       0.52      0.58      0.55       258\n",
      "           2       0.79      0.63      0.70       443\n",
      "           3       0.59      0.87      0.71       183\n",
      "           4       0.28      0.23      0.25       143\n",
      "\n",
      "    accuracy                           0.60      1027\n",
      "   macro avg       0.55      0.58      0.55      1027\n",
      "weighted avg       0.61      0.60      0.60      1027\n",
      "\n"
     ]
    }
   ],
   "source": [
    "print(classification_report(y_test,y_pred))"
   ]
  }
 ],
 "metadata": {
  "kernelspec": {
   "display_name": "Python 3.6.9 64-bit ('base': conda)",
   "language": "python",
   "name": "python36964bitbaseconda6c8d87063a18461ca77c51084a3826c5"
  },
  "language_info": {
   "codemirror_mode": {
    "name": "ipython",
    "version": 3
   },
   "file_extension": ".py",
   "mimetype": "text/x-python",
   "name": "python",
   "nbconvert_exporter": "python",
   "pygments_lexer": "ipython3",
   "version": "3.7.6"
  }
 },
 "nbformat": 4,
 "nbformat_minor": 5
}
